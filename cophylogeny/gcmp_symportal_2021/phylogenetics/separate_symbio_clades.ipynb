{
 "cells": [
  {
   "cell_type": "code",
   "execution_count": 1,
   "metadata": {},
   "outputs": [],
   "source": [
    "import skbio\n",
    "from Bio import SeqIO\n",
    "import pandas as pd\n",
    "workdir = \"/Volumes/McMinds/git_repos/gcmp_stan_symportal_2019/\"\n",
    "outdir = workdir + \"output/symbio_phylo/\""
   ]
  },
  {
   "cell_type": "code",
   "execution_count": 3,
   "metadata": {},
   "outputs": [
    {
     "name": "stdout",
     "output_type": "stream",
     "text": [
      "A 247\n",
      "B 76\n",
      "C 706\n",
      "F 55\n",
      "D 119\n",
      "E 1\n",
      "G 28\n",
      "H 9\n",
      "I 4\n"
     ]
    }
   ],
   "source": [
    "input_file = \"all_seqs.fasta\"\n",
    "#input_file = \"72_DBV_20190609_2019-06-10_01-30-10.537772.seqs.fasta\"\n",
    "discard_unnamed = True\n",
    "clades = {}\n",
    "for seq in SeqIO.parse(workdir + \"raw_data/symbio_phylo/\" + input_file, \"fasta\"):\n",
    "        \n",
    "        if \"_\" in seq.id:\n",
    "            if discard_unnamed:\n",
    "                continue\n",
    "            else:\n",
    "                clade = seq.id.split(\"_\")[1]\n",
    "        else:\n",
    "            clade = seq.id[0]\n",
    "            \n",
    "        if clade not in clades.keys():\n",
    "            clades[clade] = []\n",
    "            \n",
    "        clades[clade].append(seq)   \n",
    "        \n",
    "clade_sizes = {}\n",
    "for x in clades.keys():\n",
    "    clade_sizes[x] = len(clades[x])\n",
    "    print(x + \" \" + str(clade_sizes[x]))\n",
    "    \n",
    "clades_sorted = sorted(clade_sizes, key=clade_sizes.get)"
   ]
  },
  {
   "cell_type": "code",
   "execution_count": null,
   "metadata": {},
   "outputs": [],
   "source": [
    "for x in clades_sorted:\n",
    "    prefix = outdir + \"its2_clade_\" + x\n",
    "    nseqs = len(clades[x])\n",
    "\n",
    "    print('Writing ' + str(nseqs) + ' clade ' + x + ' seq(s) to a file\\n')\n",
    "    SeqIO.write(clades[x], prefix + \".fasta\", \"fasta-2line\")\n",
    "    \n",
    "    if nseqs > 1:\n",
    "        print('Aligning clade ' + x + ':')\n",
    "        !mafft --thread 4 --maxiterate 1000 --ep 0 --genafpair {prefix + \".fasta\"} > {prefix + \"_aligned.fasta\"}\n",
    "        \n",
    "        #print('Building phylogeny for clade ' + x + ':')\n",
    "        #!iqtree -s {prefix + \"_aligned.fasta\"}"
   ]
  },
  {
   "cell_type": "code",
   "execution_count": null,
   "metadata": {},
   "outputs": [],
   "source": [
    "seeds = \"\"\n",
    "addseqs = \"/dev/null\"\n",
    "inds = []\n",
    "for x in clades_sorted:\n",
    "    if len(clades[x]) > 1:\n",
    "        seeds = seeds + \"--seed \" + outdir + \"its2_clade_\" + x + \"_aligned.fasta \"\n",
    "    else:\n",
    "        inds.append(clades[x])\n",
    "\n",
    "if len(inds) > 0:\n",
    "    if len(inds) == 1:\n",
    "        inds = inds[0]\n",
    "    print('Writing isolate clades to a file\\n')\n",
    "    addseqs = outdir + \"its2_concat_isolates.fasta\"\n",
    "    SeqIO.write(inds, addseqs, \"fasta-2line\")       \n",
    "        \n",
    "!mafft --thread 4 --maxiterate 1000 --ep 0 --genafpair {seeds}{addseqs} > {outdir + \"its2_all_clades_aligned.fasta\"}"
   ]
  },
  {
   "cell_type": "code",
   "execution_count": null,
   "metadata": {},
   "outputs": [],
   "source": [
    "partitions_file = outdir + \"iqtree_partitions.nex\"\n",
    "f = open(partitions_file, \"w+\")\n",
    "\n",
    "part = 1\n",
    "f.write(\"#nexus\\n\")\n",
    "f.write(\"begin sets;\\n\")\n",
    "f.write(\"    charset ITS2 = \" + outdir + \"its2_all_clades_aligned_clean.fasta:*;\\n\")\n",
    "for gene in (\"28S\",\"23S\",\"cob\",\"coi\",\"elf\",\"psba\"):\n",
    "    part += 1\n",
    "    f.write(\"    charset \" + gene + \" = \" + workdir + \"raw_data/symbio_phylo/\" + gene + \"/forindividual tree \" + gene + \".fas:*;\\n\")\n",
    "f.write(\"end;\\n\")\n",
    "f.close()"
   ]
  },
  {
   "cell_type": "code",
   "execution_count": null,
   "metadata": {},
   "outputs": [],
   "source": [
    "!sed 's/_seed_//g' {outdir + \"its2_all_clades_aligned.fasta\"} > {outdir + \"its2_all_clades_aligned_clean.fasta\"}\n",
    "!iqtree -nt AUTO -ntmax 4 -pre {outdir + \"allgenes\"} -mrate E,I,G,I+G,R,H,I+H -mfreq F,FO -spp {partitions_file}"
   ]
  },
  {
   "cell_type": "code",
   "execution_count": 5,
   "metadata": {},
   "outputs": [],
   "source": [
    "abundance = workdir + \"raw_data/symbio_phylo/72_DBV_20190609_2019-06-10_01-30-10.537772.profiles.absolute.txt\"\n",
    "df = pd.read_csv(abundance, sep=\"\\t\", index_col=0) \n",
    "df.drop(columns=[df.columns[0]], inplace=True)\n",
    "profs = dict(df.loc['ITS2 type profile'])"
   ]
  },
  {
   "cell_type": "code",
   "execution_count": 7,
   "metadata": {},
   "outputs": [],
   "source": [
    "import re\n",
    "abunds = {}\n",
    "for string,profdef,names in zip(df.loc['Average defining sequence proportions and [stdev]'], df.loc['ITS2 type profile'], df.columns):\n",
    "    abunds[names] = {}\n",
    "    for substr,div in zip(string.split('-'),profdef.replace('/','-').split('-')):\n",
    "        abunds[names][div] = float(re.sub('\\[.*\\]','',substr)) * 1000 # need integer values for some reason! provided decimal values were at precision of 1e-3\n",
    "abunds = pd.DataFrame.from_dict(abunds, orient='index')\n",
    "abunds[pd.isna(abunds)] = 0"
   ]
  },
  {
   "cell_type": "code",
   "execution_count": 8,
   "metadata": {},
   "outputs": [
    {
     "data": {
      "text/plain": [
       "'/Volumes/McMinds/git_repos/gcmp_stan_symportal_2019/output/symbio_phylo/allgenes_rooted.treefile'"
      ]
     },
     "execution_count": 8,
     "metadata": {},
     "output_type": "execute_result"
    }
   ],
   "source": [
    "divTree = skbio.TreeNode.read(outdir + \"allgenes.treefile\").root_at_midpoint()\n",
    "divTree.write(file = outdir + \"allgenes_rooted.treefile\")"
   ]
  },
  {
   "cell_type": "code",
   "execution_count": 9,
   "metadata": {},
   "outputs": [
    {
     "name": "stdout",
     "output_type": "stream",
     "text": [
      "\n",
      "\n",
      "#  Analysing dataset 1\n",
      "\n",
      " . Computing tree...\n",
      "\n",
      " . Performing NNI...\n",
      "\n",
      " . Performing SPR...\n",
      "\n",
      " . Time used 0h00m01s\n",
      "\n",
      "Setting initial dates...\n",
      "Fitting in progress... get a first set of estimates\n",
      "         Penalised log-lik = -1007718 \n",
      "Optimising rates... dates... -1007718 \n",
      "Optimising rates... dates... -214723.3 \n",
      "Optimising rates... dates... -211324.4 \n",
      "Optimising rates... dates... -209131.5 \n",
      "Optimising rates... dates... -206191.5 \n",
      "Optimising rates... dates... -204620.6 \n",
      "Optimising rates... dates... -203356.9 \n",
      "Optimising rates... dates... -201833.6 \n",
      "Optimising rates... dates... -200493.9 \n",
      "Optimising rates... dates... -199514 \n",
      "Optimising rates... dates... -198930.7 \n",
      "Optimising rates... dates... -198478.3 \n",
      "Optimising rates... dates... -198090.5 \n",
      "Optimising rates... dates... -197308.7 \n",
      "Optimising rates... dates... -197070.3 \n",
      "Optimising rates... dates... -196535.1 \n",
      "Optimising rates... dates... -196304.3 \n",
      "Optimising rates... dates... -196020.6 \n",
      "Optimising rates... dates... -195846.3 \n",
      "Optimising rates... dates... -195668.8 \n",
      "Optimising rates... dates... -195426 \n",
      "Optimising rates... dates... -195205.3 \n",
      "\n",
      "Done.\n"
     ]
    }
   ],
   "source": [
    "wu = skbio.diversity.beta_diversity('weighted_unifrac', abunds.to_numpy(), ids=list(abunds.index), tree = divTree, otu_ids=list(abunds.columns))\n",
    "f = open(outdir + \"profile_WU_Distances.txt\", 'w')\n",
    "f.write(str(len(wu.data)) + '\\n')\n",
    "for name,dat in zip(abunds.index,wu.data):\n",
    "    f.write(name) #f.write(df.loc['ITS2 type profile',name]) #\n",
    "    for dist in dat:\n",
    "        f.write('\\t' + f'{dist:.19f}')\n",
    "    f.write('\\n')\n",
    "f.close()\n",
    "!fastme -i {outdir + \"profile_WU_Distances.txt\"} -o {outdir + \"profile_WU_fastmeBal.tree\"} -I {outdir + \"profile_WU_fastmeBal_stats.txt\"} -f 18 -m B -s -n B\n",
    "profTree = skbio.TreeNode.read(outdir + \"profile_WU_fastmeBal.tree\").root_at_midpoint()\n",
    "profTree.write(file = outdir + \"profile_WU_fastmeBal_rooted.tree\")\n",
    "model = 'correlated'\n",
    "collapseMultis = False\n",
    "!Rscript {workdir + 'gcmp_stan_symportal/phylogenetics/chronogram.r'} {collapseMultis} {model} {outdir + \"profile_WU_fastmeBal_rooted.tree\"} {outdir + \"profile_WU_fastmeBal_\" + model + \"_chronos.tree\"}"
   ]
  },
  {
   "cell_type": "code",
   "execution_count": 29,
   "metadata": {},
   "outputs": [
    {
     "name": "stdout",
     "output_type": "stream",
     "text": [
      "\n",
      "\n",
      "#  Analysing dataset 1\n",
      "\n",
      " . Computing tree...\n",
      "\n",
      " . Performing NNI...\n",
      "\n",
      " . Performing SPR...\n",
      "\n",
      " . Time used 0h00m01s\n",
      "\n",
      "Setting initial dates...\n",
      "Fitting in progress... get a first set of estimates\n",
      "         Penalised log-lik = -665052.3 \n",
      "Optimising rates... dates... -665052.3 \n",
      "Optimising rates... dates... -95814.27 \n",
      "Optimising rates... dates... -88566.07 \n",
      "Optimising rates... dates... -85133.02 \n",
      "Optimising rates... dates... -83609.17 \n",
      "Optimising rates... dates... -82593.86 \n",
      "Optimising rates... dates... -81779.21 \n",
      "Optimising rates... dates... -81091.25 \n",
      "Optimising rates... dates... -80620.64 \n",
      "Optimising rates... dates... -80574.76 \n",
      "Optimising rates... dates... -80544.01 \n",
      "Optimising rates... dates... -80522.02 \n",
      "Optimising rates... dates... -80510.94 \n",
      "Optimising rates... dates... -80299.12 \n",
      "Optimising rates... dates... -80284.97 \n",
      "Optimising rates... dates... -80279.37 \n",
      "Optimising rates... dates... -80275.54 \n",
      "Optimising rates... dates... -80273.04 \n",
      "Optimising rates... dates... -80272.75 \n",
      "Optimising rates... dates... -80272.74 \n",
      "Optimising rates... dates... -80272.74 \n",
      "Optimising rates... dates... -80272.74 \n",
      "\n",
      "Done.\n"
     ]
    }
   ],
   "source": [
    "uwu = skbio.diversity.beta_diversity('unweighted_unifrac', abunds.to_numpy(), ids=list(abunds.index), tree = divTree, otu_ids=list(abunds.columns))\n",
    "f = open(outdir + \"profile_UWU_Distances.txt\", 'w')\n",
    "f.write(str(len(uwu.data)) + '\\n')\n",
    "for name,dat in zip(abunds.index,uwu.data):\n",
    "    f.write(df.loc['ITS2 type profile',name]) #f.write(name)\n",
    "    for dist in dat:\n",
    "        f.write('\\t' + f'{dist:.19f}')\n",
    "    f.write('\\n')\n",
    "f.close()\n",
    "!fastme -i {outdir + \"profile_UWU_Distances.txt\"} -o {outdir + \"profile_UWU_fastmeBal.tree\"} -I {outdir + \"profile_UWU_fastmeBal_stats.txt\"} -f 18 -m B -s -n B\n",
    "profTree = skbio.TreeNode.read(outdir + \"profile_UWU_fastmeBal.tree\").root_at_midpoint()\n",
    "profTree.write(file = outdir + \"profile_UWU_fastmeBal_rooted.tree\")\n",
    "model = 'correlated'\n",
    "collapseMultis = False\n",
    "!Rscript {workdir + 'gcmp_stan_symportal/phylogenetics/chronogram.r'} {collapseMultis} {model} {outdir + \"profile_UWU_fastmeBal_rooted.tree\"} {outdir + \"profile_UWU_fastmeBal_\" + model + \"_chronos.tree\"}"
   ]
  },
  {
   "cell_type": "code",
   "execution_count": null,
   "metadata": {},
   "outputs": [],
   "source": []
  }
 ],
 "metadata": {
  "kernelspec": {
   "display_name": "Python 3",
   "language": "python",
   "name": "python3"
  },
  "language_info": {
   "codemirror_mode": {
    "name": "ipython",
    "version": 3
   },
   "file_extension": ".py",
   "mimetype": "text/x-python",
   "name": "python",
   "nbconvert_exporter": "python",
   "pygments_lexer": "ipython3",
   "version": "3.7.3"
  }
 },
 "nbformat": 4,
 "nbformat_minor": 2
}
